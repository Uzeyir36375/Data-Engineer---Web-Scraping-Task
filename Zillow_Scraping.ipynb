{
  "nbformat": 4,
  "nbformat_minor": 0,
  "metadata": {
    "colab": {
      "provenance": []
    },
    "kernelspec": {
      "name": "python3",
      "display_name": "Python 3"
    },
    "language_info": {
      "name": "python"
    }
  },
  "cells": [
    {
      "cell_type": "markdown",
      "source": [
        "## Web Scraping Zillow.com"
      ],
      "metadata": {
        "id": "yu7VNvWJsS5R"
      }
    },
    {
      "cell_type": "code",
      "execution_count": null,
      "metadata": {
        "id": "ho0l28sFrRWD"
      },
      "outputs": [],
      "source": [
        "# Importing all libraries\n",
        "import pandas as pd\n",
        "import requests\n",
        "from bs4 import BeautifulSoup\n",
        "import re\n",
        "import json"
      ]
    },
    {
      "cell_type": "code",
      "source": [
        "# initiating user agent to avoid getting blocked\n",
        "header = {\"User-Agent\": \"Mozilla/5.0 (Windows NT 10.0; WOW64) AppleWebKit/537.36 (KHTML, like Gecko) Chrome/109.0.0.0 Safari/537.36\",\n",
        "  'referer': 'https://www.zillow.com/homes/for_rent/Manhattan,-New-York,-NY_rb'\n",
        "\n",
        "}\n",
        "# passing our url\n",
        "url = 'https://www.zillow.com/homes/for_rent/Manhattan,-New-York,-NY_rb'"
      ],
      "metadata": {
        "id": "59hpzvdbs3UB"
      },
      "execution_count": null,
      "outputs": []
    },
    {
      "cell_type": "code",
      "source": [
        "r = requests.get(url=url,headers=header)\n",
        "r"
      ],
      "metadata": {
        "colab": {
          "base_uri": "https://localhost:8080/"
        },
        "id": "eP3tApeRtAEu",
        "outputId": "25f071c6-0f87-455c-bae6-507d6a6447b4"
      },
      "execution_count": null,
      "outputs": [
        {
          "output_type": "execute_result",
          "data": {
            "text/plain": [
              "<Response [200]>"
            ]
          },
          "metadata": {},
          "execution_count": 3
        }
      ]
    },
    {
      "cell_type": "code",
      "source": [
        "# making the soup object\n",
        "soup= BeautifulSoup(r.text, 'lxml')\n",
        "# lets look for the next page tag so we can extract urls for number of pages we want to scrape\n",
        "\n",
        "url+soup.find('a', rel='next')['href']"
      ],
      "metadata": {
        "colab": {
          "base_uri": "https://localhost:8080/",
          "height": 35
        },
        "id": "JXMJoVHStFD-",
        "outputId": "a61f7609-848a-4f40-af3a-33ed45007ef1"
      },
      "execution_count": null,
      "outputs": [
        {
          "output_type": "execute_result",
          "data": {
            "text/plain": [
              "'https://www.zillow.com/homes/for_rent/Manhattan,-New-York,-NY_rb/manhattan-new-york-ny/rentals/2_p/'"
            ],
            "application/vnd.google.colaboratory.intrinsic+json": {
              "type": "string"
            }
          },
          "metadata": {},
          "execution_count": 4
        }
      ]
    },
    {
      "cell_type": "code",
      "source": [
        "# getting the url of 10 pages we want to scrape\n",
        "# we'll extract data for the first 10 pages\n",
        "urls = []\n",
        "for i in range(1,11):\n",
        "    a = 'https://www.zillow.com/homes/for_rent/Manhattan,-New-York,-NY_rb/manhattan-new-york-ny/rentals/'+str(i)+'_p/'\n",
        "    urls.append(a)"
      ],
      "metadata": {
        "id": "N2LcO832tSP9"
      },
      "execution_count": null,
      "outputs": []
    },
    {
      "cell_type": "code",
      "source": [
        "import requests\n",
        "import re\n",
        "import json\n",
        "\n",
        "req_headers = header # Headers to be used in the requests\n",
        "data_list = []\n",
        "\n",
        "with requests.Session() as s:\n",
        "    for url in urls:\n",
        "        response = s.get(url, headers=req_headers)\n",
        "        html_content = response.text\n",
        "\n",
        "        # Extract essential data using regex\n",
        "        data = json.loads(re.search(r'!--(\\{\"queryState\".*?)-->', html_content).group(1))\n",
        "\n",
        "        # Append extracted data to the data_list\n",
        "        data_list.append(data)"
      ],
      "metadata": {
        "id": "dqQbxA3Tt5di"
      },
      "execution_count": null,
      "outputs": []
    },
    {
      "cell_type": "code",
      "source": [
        "import warnings\n",
        "warnings.filterwarnings('ignore')\n",
        "\n",
        "df = pd.DataFrame()\n",
        "\n",
        "def make_data_frame(frame):\n",
        "    for i in data_list:\n",
        "        for item in i['cat1']['searchResults']['listResults']: # looping the dictionary of essential data created earlier\n",
        "            frame = frame.append(item, ignore_index=True)\n",
        "    return frame\n",
        "\n",
        "df = make_data_frame(df)"
      ],
      "metadata": {
        "id": "m_kK24vFwx50"
      },
      "execution_count": null,
      "outputs": []
    },
    {
      "cell_type": "code",
      "source": [
        "df.head()"
      ],
      "metadata": {
        "colab": {
          "base_uri": "https://localhost:8080/",
          "height": 560
        },
        "id": "9EqdOZZKy5Fo",
        "outputId": "c25fbdc4-04f4-4130-8634-594cd4cfce7a"
      },
      "execution_count": null,
      "outputs": [
        {
          "output_type": "execute_result",
          "data": {
            "text/plain": [
              "                            zpid                             id         lotId  \\\n",
              "0    40.73736_rrc2*-rrc_73.97319    40.73736_rrc2*-rrc_73.97319  2.008579e+09   \n",
              "1  40.704678_rrc2*-rrc_74.007576  40.704678_rrc2*-rrc_74.007576  1.000001e+09   \n",
              "2    40.751972_rrc2*-rrc_73.9857    40.751972_rrc2*-rrc_73.9857  1.390700e+04   \n",
              "3    40.711334_rrc2*-rrc_74.0168    40.711334_rrc2*-rrc_74.0168  1.001493e+09   \n",
              "4    40.76221_rrc2*-rrc_73.99658    40.76221_rrc2*-rrc_73.99658  1.001684e+09   \n",
              "\n",
              "                                              imgSrc hasImage  \\\n",
              "0  https://photos.zillowstatic.com/fp/c5384b7a159...     True   \n",
              "1  https://photos.zillowstatic.com/fp/39db1832519...     True   \n",
              "2  https://photos.zillowstatic.com/fp/c71bbf21380...     True   \n",
              "3  https://photos.zillowstatic.com/fp/f669ca5fae3...     True   \n",
              "4  https://photos.zillowstatic.com/fp/e1d85d1a740...     True   \n",
              "\n",
              "                                      carouselPhotos statusType  \\\n",
              "0  [{'url': 'https://photos.zillowstatic.com/fp/c...   FOR_RENT   \n",
              "1  [{'url': 'https://photos.zillowstatic.com/fp/3...   FOR_RENT   \n",
              "2  [{'url': 'https://photos.zillowstatic.com/fp/c...   FOR_RENT   \n",
              "3  [{'url': 'https://photos.zillowstatic.com/fp/f...   FOR_RENT   \n",
              "4  [{'url': 'https://photos.zillowstatic.com/fp/e...   FOR_RENT   \n",
              "\n",
              "       statusText                                      detailUrl  \\\n",
              "0       Waterside      /apartments/new-york-ny/waterside/97QdBH/   \n",
              "1         95 Wall        /apartments/new-york-ny/95-wall/5XSsMP/   \n",
              "2  Atlas New York  /apartments/manhattan-ny/atlas-new-york/27nq/   \n",
              "3         Gateway        /apartments/new-york-ny/gateway/5XjY8c/   \n",
              "4     Gotham West   /apartments/manhattan-ny/gotham-west/5XmBQy/   \n",
              "\n",
              "                                            latLong  ... hasVideo isHomeRec  \\\n",
              "0    {'latitude': 40.73736, 'longitude': -73.97319}  ...      NaN       NaN   \n",
              "1  {'latitude': 40.704678, 'longitude': -74.007576}  ...      NaN       NaN   \n",
              "2    {'latitude': 40.751972, 'longitude': -73.9857}  ...      NaN       NaN   \n",
              "3    {'latitude': 40.711334, 'longitude': -74.0168}  ...      NaN       NaN   \n",
              "4    {'latitude': 40.76221, 'longitude': -73.99658}  ...      NaN       NaN   \n",
              "\n",
              "  hasAdditionalAttributions availabilityDate hasOpenHouse openHouseStartDate  \\\n",
              "0                       NaN              NaN          NaN                NaN   \n",
              "1                       NaN              NaN          NaN                NaN   \n",
              "2                       NaN              NaN          NaN                NaN   \n",
              "3                       NaN              NaN          NaN                NaN   \n",
              "4                       NaN              NaN          NaN                NaN   \n",
              "\n",
              "  openHouseEndDate openHouseDescription streetViewMetadataURL streetViewURL  \n",
              "0              NaN                  NaN                   NaN           NaN  \n",
              "1              NaN                  NaN                   NaN           NaN  \n",
              "2              NaN                  NaN                   NaN           NaN  \n",
              "3              NaN                  NaN                   NaN           NaN  \n",
              "4              NaN                  NaN                   NaN           NaN  \n",
              "\n",
              "[5 rows x 53 columns]"
            ],
            "text/html": [
              "\n",
              "  <div id=\"df-0c745ca4-4403-40f1-9103-ba4b95ec9bf4\">\n",
              "    <div class=\"colab-df-container\">\n",
              "      <div>\n",
              "<style scoped>\n",
              "    .dataframe tbody tr th:only-of-type {\n",
              "        vertical-align: middle;\n",
              "    }\n",
              "\n",
              "    .dataframe tbody tr th {\n",
              "        vertical-align: top;\n",
              "    }\n",
              "\n",
              "    .dataframe thead th {\n",
              "        text-align: right;\n",
              "    }\n",
              "</style>\n",
              "<table border=\"1\" class=\"dataframe\">\n",
              "  <thead>\n",
              "    <tr style=\"text-align: right;\">\n",
              "      <th></th>\n",
              "      <th>zpid</th>\n",
              "      <th>id</th>\n",
              "      <th>lotId</th>\n",
              "      <th>imgSrc</th>\n",
              "      <th>hasImage</th>\n",
              "      <th>carouselPhotos</th>\n",
              "      <th>statusType</th>\n",
              "      <th>statusText</th>\n",
              "      <th>detailUrl</th>\n",
              "      <th>latLong</th>\n",
              "      <th>...</th>\n",
              "      <th>hasVideo</th>\n",
              "      <th>isHomeRec</th>\n",
              "      <th>hasAdditionalAttributions</th>\n",
              "      <th>availabilityDate</th>\n",
              "      <th>hasOpenHouse</th>\n",
              "      <th>openHouseStartDate</th>\n",
              "      <th>openHouseEndDate</th>\n",
              "      <th>openHouseDescription</th>\n",
              "      <th>streetViewMetadataURL</th>\n",
              "      <th>streetViewURL</th>\n",
              "    </tr>\n",
              "  </thead>\n",
              "  <tbody>\n",
              "    <tr>\n",
              "      <th>0</th>\n",
              "      <td>40.73736_rrc2*-rrc_73.97319</td>\n",
              "      <td>40.73736_rrc2*-rrc_73.97319</td>\n",
              "      <td>2.008579e+09</td>\n",
              "      <td>https://photos.zillowstatic.com/fp/c5384b7a159...</td>\n",
              "      <td>True</td>\n",
              "      <td>[{'url': 'https://photos.zillowstatic.com/fp/c...</td>\n",
              "      <td>FOR_RENT</td>\n",
              "      <td>Waterside</td>\n",
              "      <td>/apartments/new-york-ny/waterside/97QdBH/</td>\n",
              "      <td>{'latitude': 40.73736, 'longitude': -73.97319}</td>\n",
              "      <td>...</td>\n",
              "      <td>NaN</td>\n",
              "      <td>NaN</td>\n",
              "      <td>NaN</td>\n",
              "      <td>NaN</td>\n",
              "      <td>NaN</td>\n",
              "      <td>NaN</td>\n",
              "      <td>NaN</td>\n",
              "      <td>NaN</td>\n",
              "      <td>NaN</td>\n",
              "      <td>NaN</td>\n",
              "    </tr>\n",
              "    <tr>\n",
              "      <th>1</th>\n",
              "      <td>40.704678_rrc2*-rrc_74.007576</td>\n",
              "      <td>40.704678_rrc2*-rrc_74.007576</td>\n",
              "      <td>1.000001e+09</td>\n",
              "      <td>https://photos.zillowstatic.com/fp/39db1832519...</td>\n",
              "      <td>True</td>\n",
              "      <td>[{'url': 'https://photos.zillowstatic.com/fp/3...</td>\n",
              "      <td>FOR_RENT</td>\n",
              "      <td>95 Wall</td>\n",
              "      <td>/apartments/new-york-ny/95-wall/5XSsMP/</td>\n",
              "      <td>{'latitude': 40.704678, 'longitude': -74.007576}</td>\n",
              "      <td>...</td>\n",
              "      <td>NaN</td>\n",
              "      <td>NaN</td>\n",
              "      <td>NaN</td>\n",
              "      <td>NaN</td>\n",
              "      <td>NaN</td>\n",
              "      <td>NaN</td>\n",
              "      <td>NaN</td>\n",
              "      <td>NaN</td>\n",
              "      <td>NaN</td>\n",
              "      <td>NaN</td>\n",
              "    </tr>\n",
              "    <tr>\n",
              "      <th>2</th>\n",
              "      <td>40.751972_rrc2*-rrc_73.9857</td>\n",
              "      <td>40.751972_rrc2*-rrc_73.9857</td>\n",
              "      <td>1.390700e+04</td>\n",
              "      <td>https://photos.zillowstatic.com/fp/c71bbf21380...</td>\n",
              "      <td>True</td>\n",
              "      <td>[{'url': 'https://photos.zillowstatic.com/fp/c...</td>\n",
              "      <td>FOR_RENT</td>\n",
              "      <td>Atlas New York</td>\n",
              "      <td>/apartments/manhattan-ny/atlas-new-york/27nq/</td>\n",
              "      <td>{'latitude': 40.751972, 'longitude': -73.9857}</td>\n",
              "      <td>...</td>\n",
              "      <td>NaN</td>\n",
              "      <td>NaN</td>\n",
              "      <td>NaN</td>\n",
              "      <td>NaN</td>\n",
              "      <td>NaN</td>\n",
              "      <td>NaN</td>\n",
              "      <td>NaN</td>\n",
              "      <td>NaN</td>\n",
              "      <td>NaN</td>\n",
              "      <td>NaN</td>\n",
              "    </tr>\n",
              "    <tr>\n",
              "      <th>3</th>\n",
              "      <td>40.711334_rrc2*-rrc_74.0168</td>\n",
              "      <td>40.711334_rrc2*-rrc_74.0168</td>\n",
              "      <td>1.001493e+09</td>\n",
              "      <td>https://photos.zillowstatic.com/fp/f669ca5fae3...</td>\n",
              "      <td>True</td>\n",
              "      <td>[{'url': 'https://photos.zillowstatic.com/fp/f...</td>\n",
              "      <td>FOR_RENT</td>\n",
              "      <td>Gateway</td>\n",
              "      <td>/apartments/new-york-ny/gateway/5XjY8c/</td>\n",
              "      <td>{'latitude': 40.711334, 'longitude': -74.0168}</td>\n",
              "      <td>...</td>\n",
              "      <td>NaN</td>\n",
              "      <td>NaN</td>\n",
              "      <td>NaN</td>\n",
              "      <td>NaN</td>\n",
              "      <td>NaN</td>\n",
              "      <td>NaN</td>\n",
              "      <td>NaN</td>\n",
              "      <td>NaN</td>\n",
              "      <td>NaN</td>\n",
              "      <td>NaN</td>\n",
              "    </tr>\n",
              "    <tr>\n",
              "      <th>4</th>\n",
              "      <td>40.76221_rrc2*-rrc_73.99658</td>\n",
              "      <td>40.76221_rrc2*-rrc_73.99658</td>\n",
              "      <td>1.001684e+09</td>\n",
              "      <td>https://photos.zillowstatic.com/fp/e1d85d1a740...</td>\n",
              "      <td>True</td>\n",
              "      <td>[{'url': 'https://photos.zillowstatic.com/fp/e...</td>\n",
              "      <td>FOR_RENT</td>\n",
              "      <td>Gotham West</td>\n",
              "      <td>/apartments/manhattan-ny/gotham-west/5XmBQy/</td>\n",
              "      <td>{'latitude': 40.76221, 'longitude': -73.99658}</td>\n",
              "      <td>...</td>\n",
              "      <td>NaN</td>\n",
              "      <td>NaN</td>\n",
              "      <td>NaN</td>\n",
              "      <td>NaN</td>\n",
              "      <td>NaN</td>\n",
              "      <td>NaN</td>\n",
              "      <td>NaN</td>\n",
              "      <td>NaN</td>\n",
              "      <td>NaN</td>\n",
              "      <td>NaN</td>\n",
              "    </tr>\n",
              "  </tbody>\n",
              "</table>\n",
              "<p>5 rows × 53 columns</p>\n",
              "</div>\n",
              "      <button class=\"colab-df-convert\" onclick=\"convertToInteractive('df-0c745ca4-4403-40f1-9103-ba4b95ec9bf4')\"\n",
              "              title=\"Convert this dataframe to an interactive table.\"\n",
              "              style=\"display:none;\">\n",
              "        \n",
              "  <svg xmlns=\"http://www.w3.org/2000/svg\" height=\"24px\"viewBox=\"0 0 24 24\"\n",
              "       width=\"24px\">\n",
              "    <path d=\"M0 0h24v24H0V0z\" fill=\"none\"/>\n",
              "    <path d=\"M18.56 5.44l.94 2.06.94-2.06 2.06-.94-2.06-.94-.94-2.06-.94 2.06-2.06.94zm-11 1L8.5 8.5l.94-2.06 2.06-.94-2.06-.94L8.5 2.5l-.94 2.06-2.06.94zm10 10l.94 2.06.94-2.06 2.06-.94-2.06-.94-.94-2.06-.94 2.06-2.06.94z\"/><path d=\"M17.41 7.96l-1.37-1.37c-.4-.4-.92-.59-1.43-.59-.52 0-1.04.2-1.43.59L10.3 9.45l-7.72 7.72c-.78.78-.78 2.05 0 2.83L4 21.41c.39.39.9.59 1.41.59.51 0 1.02-.2 1.41-.59l7.78-7.78 2.81-2.81c.8-.78.8-2.07 0-2.86zM5.41 20L4 18.59l7.72-7.72 1.47 1.35L5.41 20z\"/>\n",
              "  </svg>\n",
              "      </button>\n",
              "      \n",
              "  <style>\n",
              "    .colab-df-container {\n",
              "      display:flex;\n",
              "      flex-wrap:wrap;\n",
              "      gap: 12px;\n",
              "    }\n",
              "\n",
              "    .colab-df-convert {\n",
              "      background-color: #E8F0FE;\n",
              "      border: none;\n",
              "      border-radius: 50%;\n",
              "      cursor: pointer;\n",
              "      display: none;\n",
              "      fill: #1967D2;\n",
              "      height: 32px;\n",
              "      padding: 0 0 0 0;\n",
              "      width: 32px;\n",
              "    }\n",
              "\n",
              "    .colab-df-convert:hover {\n",
              "      background-color: #E2EBFA;\n",
              "      box-shadow: 0px 1px 2px rgba(60, 64, 67, 0.3), 0px 1px 3px 1px rgba(60, 64, 67, 0.15);\n",
              "      fill: #174EA6;\n",
              "    }\n",
              "\n",
              "    [theme=dark] .colab-df-convert {\n",
              "      background-color: #3B4455;\n",
              "      fill: #D2E3FC;\n",
              "    }\n",
              "\n",
              "    [theme=dark] .colab-df-convert:hover {\n",
              "      background-color: #434B5C;\n",
              "      box-shadow: 0px 1px 3px 1px rgba(0, 0, 0, 0.15);\n",
              "      filter: drop-shadow(0px 1px 2px rgba(0, 0, 0, 0.3));\n",
              "      fill: #FFFFFF;\n",
              "    }\n",
              "  </style>\n",
              "\n",
              "      <script>\n",
              "        const buttonEl =\n",
              "          document.querySelector('#df-0c745ca4-4403-40f1-9103-ba4b95ec9bf4 button.colab-df-convert');\n",
              "        buttonEl.style.display =\n",
              "          google.colab.kernel.accessAllowed ? 'block' : 'none';\n",
              "\n",
              "        async function convertToInteractive(key) {\n",
              "          const element = document.querySelector('#df-0c745ca4-4403-40f1-9103-ba4b95ec9bf4');\n",
              "          const dataTable =\n",
              "            await google.colab.kernel.invokeFunction('convertToInteractive',\n",
              "                                                     [key], {});\n",
              "          if (!dataTable) return;\n",
              "\n",
              "          const docLinkHtml = 'Like what you see? Visit the ' +\n",
              "            '<a target=\"_blank\" href=https://colab.research.google.com/notebooks/data_table.ipynb>data table notebook</a>'\n",
              "            + ' to learn more about interactive tables.';\n",
              "          element.innerHTML = '';\n",
              "          dataTable['output_type'] = 'display_data';\n",
              "          await google.colab.output.renderOutput(dataTable, element);\n",
              "          const docLink = document.createElement('div');\n",
              "          docLink.innerHTML = docLinkHtml;\n",
              "          element.appendChild(docLink);\n",
              "        }\n",
              "      </script>\n",
              "    </div>\n",
              "  </div>\n",
              "  "
            ]
          },
          "metadata": {},
          "execution_count": 10
        }
      ]
    },
    {
      "cell_type": "code",
      "source": [
        "df.to_csv('zillow_data.csv', index=False)"
      ],
      "metadata": {
        "id": "QkdecgtZV-SS"
      },
      "execution_count": null,
      "outputs": []
    }
  ]
}